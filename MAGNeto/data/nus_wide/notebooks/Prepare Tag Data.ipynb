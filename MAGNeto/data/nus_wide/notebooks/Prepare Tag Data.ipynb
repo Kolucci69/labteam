{
 "cells": [
  {
   "cell_type": "markdown",
   "metadata": {},
   "source": [
    "<a id=\"toc\"></a>\n",
    "# Table of Contents\n",
    "1. [Import libraries](#import_libraries)\n",
    "1. [Configure hyper-parameters](#configure_hyper_parameters)\n",
    "1. [Get tags](#get_tags)\n",
    "1. [Get important tags](#get_important_tags)\n",
    "1. [Generate dataset](#generate_dataset)\n",
    "1. [Split dataset into training and validation sets](#split_dataset)\n",
    "1. [Generate vocabulary](#generate_vocab)"
   ]
  },
  {
   "cell_type": "markdown",
   "metadata": {},
   "source": [
    "<a id=\"import_libraries\"></a>\n",
    "# Import libraries\n",
    "[Back to Table of Contents](#toc)"
   ]
  },
  {
   "cell_type": "code",
   "execution_count": 1,
   "metadata": {},
   "outputs": [],
   "source": [
    "from pathlib import Path\n",
    "\n",
    "import pandas as pd\n",
    "import numpy as np\n",
    "from tqdm import tqdm\n",
    "import matplotlib.pyplot as plt\n",
    "import seaborn as sns"
   ]
  },
  {
   "cell_type": "markdown",
   "metadata": {},
   "source": [
    "<a id=\"configure_hyper_parameters\"></a>\n",
    "# Configure hyper-parameters\n",
    "[Back to Table of Contents](#toc)"
   ]
  },
  {
   "cell_type": "code",
   "execution_count": 2,
   "metadata": {},
   "outputs": [],
   "source": [
    "IMAGE_LIST_PATH = '../downloads/ImageList/Imagelist.txt'\n",
    "CONCEPT_PATH = '../downloads/Concepts81.txt'\n",
    "TAGS_81_PATH = '../downloads/AllTags81.txt'\n",
    "GT_ROOT = '../downloads/AllLabels'\n",
    "TRAIN_IMAGE_LIST_PATH = '../downloads/ImageList/TrainImagelist.txt'\n",
    "VAL_IMAGE_LIST_PATH = '../downloads/ImageList/TestImagelist.txt'\n",
    "\n",
    "MAX_LEN = 16\n",
    "\n",
    "TRAIN_SAVE_PATH = '../annotations/train_81.csv'\n",
    "VAL_SAVE_PATH = '../annotations/val_81.csv'\n",
    "VOCAB_SAVE_PATH = '../annotations/vocab_81.csv'"
   ]
  },
  {
   "cell_type": "markdown",
   "metadata": {},
   "source": [
    "<a id=\"get_tags\"></a>\n",
    "# Get tags\n",
    "[Back to Table of Contents](#toc)"
   ]
  },
  {
   "cell_type": "code",
   "execution_count": 3,
   "metadata": {},
   "outputs": [],
   "source": [
    "with open(IMAGE_LIST_PATH, 'r') as f:\n",
    "    lines = f.read().splitlines()"
   ]
  },
  {
   "cell_type": "code",
   "execution_count": 4,
   "metadata": {},
   "outputs": [
    {
     "data": {
      "text/plain": [
       "'actor\\\\0001_2124494179.jpg'"
      ]
     },
     "execution_count": 4,
     "metadata": {},
     "output_type": "execute_result"
    }
   ],
   "source": [
    "lines[0]"
   ]
  },
  {
   "cell_type": "code",
   "execution_count": 5,
   "metadata": {},
   "outputs": [],
   "source": [
    "item_ids = [line.split('_')[-1].split('.')[0] for line in lines]"
   ]
  },
  {
   "cell_type": "code",
   "execution_count": 6,
   "metadata": {},
   "outputs": [
    {
     "data": {
      "text/plain": [
       "269648"
      ]
     },
     "execution_count": 6,
     "metadata": {},
     "output_type": "execute_result"
    }
   ],
   "source": [
    "len(item_ids)"
   ]
  },
  {
   "cell_type": "code",
   "execution_count": 7,
   "metadata": {},
   "outputs": [
    {
     "name": "stderr",
     "output_type": "stream",
     "text": [
      "100%|██████████| 269648/269648 [00:01<00:00, 265156.72it/s]\n"
     ]
    }
   ],
   "source": [
    "with open(CONCEPT_PATH, 'r') as f:\n",
    "    concepts81 = np.array(f.read().splitlines())\n",
    "    \n",
    "with open(TAGS_81_PATH, 'r') as f:\n",
    "    tags_81 = f.read().splitlines()\n",
    "    \n",
    "tags_81 = np.array([line.strip().split(' ') for line in tags_81], dtype=np.uint8)\n",
    "\n",
    "list_of_tag_batch_81 = []\n",
    "\n",
    "for row in tqdm(tags_81):\n",
    "    list_of_tag_batch_81.append(concepts81[row == 1].tolist())"
   ]
  },
  {
   "cell_type": "code",
   "execution_count": 8,
   "metadata": {},
   "outputs": [
    {
     "data": {
      "text/plain": [
       "269648"
      ]
     },
     "execution_count": 8,
     "metadata": {},
     "output_type": "execute_result"
    }
   ],
   "source": [
    "len(list_of_tag_batch_81)"
   ]
  },
  {
   "cell_type": "code",
   "execution_count": 9,
   "metadata": {},
   "outputs": [],
   "source": [
    "tags_81_df = pd.DataFrame({\n",
    "    'item_id': item_ids,\n",
    "    'tags': list_of_tag_batch_81\n",
    "})"
   ]
  },
  {
   "cell_type": "code",
   "execution_count": 10,
   "metadata": {},
   "outputs": [
    {
     "data": {
      "text/html": [
       "<div>\n",
       "<style scoped>\n",
       "    .dataframe tbody tr th:only-of-type {\n",
       "        vertical-align: middle;\n",
       "    }\n",
       "\n",
       "    .dataframe tbody tr th {\n",
       "        vertical-align: top;\n",
       "    }\n",
       "\n",
       "    .dataframe thead th {\n",
       "        text-align: right;\n",
       "    }\n",
       "</style>\n",
       "<table border=\"1\" class=\"dataframe\">\n",
       "  <thead>\n",
       "    <tr style=\"text-align: right;\">\n",
       "      <th></th>\n",
       "      <th>item_id</th>\n",
       "      <th>tags</th>\n",
       "    </tr>\n",
       "  </thead>\n",
       "  <tbody>\n",
       "    <tr>\n",
       "      <th>0</th>\n",
       "      <td>2124494179</td>\n",
       "      <td>[]</td>\n",
       "    </tr>\n",
       "    <tr>\n",
       "      <th>1</th>\n",
       "      <td>174174086</td>\n",
       "      <td>[]</td>\n",
       "    </tr>\n",
       "    <tr>\n",
       "      <th>2</th>\n",
       "      <td>221597162</td>\n",
       "      <td>[]</td>\n",
       "    </tr>\n",
       "    <tr>\n",
       "      <th>3</th>\n",
       "      <td>540895766</td>\n",
       "      <td>[]</td>\n",
       "    </tr>\n",
       "    <tr>\n",
       "      <th>4</th>\n",
       "      <td>262041423</td>\n",
       "      <td>[]</td>\n",
       "    </tr>\n",
       "    <tr>\n",
       "      <th>...</th>\n",
       "      <td>...</td>\n",
       "      <td>...</td>\n",
       "    </tr>\n",
       "    <tr>\n",
       "      <th>269643</th>\n",
       "      <td>460543444</td>\n",
       "      <td>[]</td>\n",
       "    </tr>\n",
       "    <tr>\n",
       "      <th>269644</th>\n",
       "      <td>391097803</td>\n",
       "      <td>[birds]</td>\n",
       "    </tr>\n",
       "    <tr>\n",
       "      <th>269645</th>\n",
       "      <td>6221368</td>\n",
       "      <td>[animal]</td>\n",
       "    </tr>\n",
       "    <tr>\n",
       "      <th>269646</th>\n",
       "      <td>144768190</td>\n",
       "      <td>[animal, bear]</td>\n",
       "    </tr>\n",
       "    <tr>\n",
       "      <th>269647</th>\n",
       "      <td>1368074986</td>\n",
       "      <td>[]</td>\n",
       "    </tr>\n",
       "  </tbody>\n",
       "</table>\n",
       "<p>269648 rows × 2 columns</p>\n",
       "</div>"
      ],
      "text/plain": [
       "           item_id            tags\n",
       "0       2124494179              []\n",
       "1        174174086              []\n",
       "2        221597162              []\n",
       "3        540895766              []\n",
       "4        262041423              []\n",
       "...            ...             ...\n",
       "269643   460543444              []\n",
       "269644   391097803         [birds]\n",
       "269645     6221368        [animal]\n",
       "269646   144768190  [animal, bear]\n",
       "269647  1368074986              []\n",
       "\n",
       "[269648 rows x 2 columns]"
      ]
     },
     "execution_count": 10,
     "metadata": {},
     "output_type": "execute_result"
    }
   ],
   "source": [
    "tags_81_df"
   ]
  },
  {
   "cell_type": "code",
   "execution_count": 11,
   "metadata": {},
   "outputs": [],
   "source": [
    "tags_81_df['len_tags'] = tags_81_df.tags.apply(len)"
   ]
  },
  {
   "cell_type": "code",
   "execution_count": 12,
   "metadata": {},
   "outputs": [
    {
     "data": {
      "text/html": [
       "<div>\n",
       "<style scoped>\n",
       "    .dataframe tbody tr th:only-of-type {\n",
       "        vertical-align: middle;\n",
       "    }\n",
       "\n",
       "    .dataframe tbody tr th {\n",
       "        vertical-align: top;\n",
       "    }\n",
       "\n",
       "    .dataframe thead th {\n",
       "        text-align: right;\n",
       "    }\n",
       "</style>\n",
       "<table border=\"1\" class=\"dataframe\">\n",
       "  <thead>\n",
       "    <tr style=\"text-align: right;\">\n",
       "      <th></th>\n",
       "      <th>item_id</th>\n",
       "      <th>tags</th>\n",
       "      <th>len_tags</th>\n",
       "    </tr>\n",
       "  </thead>\n",
       "  <tbody>\n",
       "    <tr>\n",
       "      <th>6</th>\n",
       "      <td>25158805</td>\n",
       "      <td>[sports]</td>\n",
       "      <td>1</td>\n",
       "    </tr>\n",
       "    <tr>\n",
       "      <th>12</th>\n",
       "      <td>1106962433</td>\n",
       "      <td>[street]</td>\n",
       "      <td>1</td>\n",
       "    </tr>\n",
       "    <tr>\n",
       "      <th>17</th>\n",
       "      <td>470960261</td>\n",
       "      <td>[water]</td>\n",
       "      <td>1</td>\n",
       "    </tr>\n",
       "    <tr>\n",
       "      <th>19</th>\n",
       "      <td>2324200009</td>\n",
       "      <td>[moon]</td>\n",
       "      <td>1</td>\n",
       "    </tr>\n",
       "    <tr>\n",
       "      <th>30</th>\n",
       "      <td>2406153318</td>\n",
       "      <td>[dog, garden]</td>\n",
       "      <td>2</td>\n",
       "    </tr>\n",
       "    <tr>\n",
       "      <th>...</th>\n",
       "      <td>...</td>\n",
       "      <td>...</td>\n",
       "      <td>...</td>\n",
       "    </tr>\n",
       "    <tr>\n",
       "      <th>269639</th>\n",
       "      <td>864401461</td>\n",
       "      <td>[birds, tree]</td>\n",
       "      <td>2</td>\n",
       "    </tr>\n",
       "    <tr>\n",
       "      <th>269641</th>\n",
       "      <td>1096302326</td>\n",
       "      <td>[animal]</td>\n",
       "      <td>1</td>\n",
       "    </tr>\n",
       "    <tr>\n",
       "      <th>269644</th>\n",
       "      <td>391097803</td>\n",
       "      <td>[birds]</td>\n",
       "      <td>1</td>\n",
       "    </tr>\n",
       "    <tr>\n",
       "      <th>269645</th>\n",
       "      <td>6221368</td>\n",
       "      <td>[animal]</td>\n",
       "      <td>1</td>\n",
       "    </tr>\n",
       "    <tr>\n",
       "      <th>269646</th>\n",
       "      <td>144768190</td>\n",
       "      <td>[animal, bear]</td>\n",
       "      <td>2</td>\n",
       "    </tr>\n",
       "  </tbody>\n",
       "</table>\n",
       "<p>133441 rows × 3 columns</p>\n",
       "</div>"
      ],
      "text/plain": [
       "           item_id            tags  len_tags\n",
       "6         25158805        [sports]         1\n",
       "12      1106962433        [street]         1\n",
       "17       470960261         [water]         1\n",
       "19      2324200009          [moon]         1\n",
       "30      2406153318   [dog, garden]         2\n",
       "...            ...             ...       ...\n",
       "269639   864401461   [birds, tree]         2\n",
       "269641  1096302326        [animal]         1\n",
       "269644   391097803         [birds]         1\n",
       "269645     6221368        [animal]         1\n",
       "269646   144768190  [animal, bear]         2\n",
       "\n",
       "[133441 rows x 3 columns]"
      ]
     },
     "execution_count": 12,
     "metadata": {},
     "output_type": "execute_result"
    }
   ],
   "source": [
    "tags_81_df[tags_81_df.len_tags != 0]"
   ]
  },
  {
   "cell_type": "code",
   "execution_count": 13,
   "metadata": {},
   "outputs": [],
   "source": [
    "tags_81_df.tags = tags_81_df.tags.apply(','.join)"
   ]
  },
  {
   "cell_type": "code",
   "execution_count": 14,
   "metadata": {},
   "outputs": [
    {
     "data": {
      "text/html": [
       "<div>\n",
       "<style scoped>\n",
       "    .dataframe tbody tr th:only-of-type {\n",
       "        vertical-align: middle;\n",
       "    }\n",
       "\n",
       "    .dataframe tbody tr th {\n",
       "        vertical-align: top;\n",
       "    }\n",
       "\n",
       "    .dataframe thead th {\n",
       "        text-align: right;\n",
       "    }\n",
       "</style>\n",
       "<table border=\"1\" class=\"dataframe\">\n",
       "  <thead>\n",
       "    <tr style=\"text-align: right;\">\n",
       "      <th></th>\n",
       "      <th>item_id</th>\n",
       "      <th>tags</th>\n",
       "      <th>len_tags</th>\n",
       "    </tr>\n",
       "  </thead>\n",
       "  <tbody>\n",
       "    <tr>\n",
       "      <th>0</th>\n",
       "      <td>2124494179</td>\n",
       "      <td></td>\n",
       "      <td>0</td>\n",
       "    </tr>\n",
       "    <tr>\n",
       "      <th>1</th>\n",
       "      <td>174174086</td>\n",
       "      <td></td>\n",
       "      <td>0</td>\n",
       "    </tr>\n",
       "    <tr>\n",
       "      <th>2</th>\n",
       "      <td>221597162</td>\n",
       "      <td></td>\n",
       "      <td>0</td>\n",
       "    </tr>\n",
       "    <tr>\n",
       "      <th>3</th>\n",
       "      <td>540895766</td>\n",
       "      <td></td>\n",
       "      <td>0</td>\n",
       "    </tr>\n",
       "    <tr>\n",
       "      <th>4</th>\n",
       "      <td>262041423</td>\n",
       "      <td></td>\n",
       "      <td>0</td>\n",
       "    </tr>\n",
       "    <tr>\n",
       "      <th>...</th>\n",
       "      <td>...</td>\n",
       "      <td>...</td>\n",
       "      <td>...</td>\n",
       "    </tr>\n",
       "    <tr>\n",
       "      <th>269643</th>\n",
       "      <td>460543444</td>\n",
       "      <td></td>\n",
       "      <td>0</td>\n",
       "    </tr>\n",
       "    <tr>\n",
       "      <th>269644</th>\n",
       "      <td>391097803</td>\n",
       "      <td>birds</td>\n",
       "      <td>1</td>\n",
       "    </tr>\n",
       "    <tr>\n",
       "      <th>269645</th>\n",
       "      <td>6221368</td>\n",
       "      <td>animal</td>\n",
       "      <td>1</td>\n",
       "    </tr>\n",
       "    <tr>\n",
       "      <th>269646</th>\n",
       "      <td>144768190</td>\n",
       "      <td>animal,bear</td>\n",
       "      <td>2</td>\n",
       "    </tr>\n",
       "    <tr>\n",
       "      <th>269647</th>\n",
       "      <td>1368074986</td>\n",
       "      <td></td>\n",
       "      <td>0</td>\n",
       "    </tr>\n",
       "  </tbody>\n",
       "</table>\n",
       "<p>269648 rows × 3 columns</p>\n",
       "</div>"
      ],
      "text/plain": [
       "           item_id         tags  len_tags\n",
       "0       2124494179                      0\n",
       "1        174174086                      0\n",
       "2        221597162                      0\n",
       "3        540895766                      0\n",
       "4        262041423                      0\n",
       "...            ...          ...       ...\n",
       "269643   460543444                      0\n",
       "269644   391097803        birds         1\n",
       "269645     6221368       animal         1\n",
       "269646   144768190  animal,bear         2\n",
       "269647  1368074986                      0\n",
       "\n",
       "[269648 rows x 3 columns]"
      ]
     },
     "execution_count": 14,
     "metadata": {},
     "output_type": "execute_result"
    }
   ],
   "source": [
    "tags_81_df"
   ]
  },
  {
   "cell_type": "code",
   "execution_count": 15,
   "metadata": {},
   "outputs": [
    {
     "name": "stdout",
     "output_type": "stream",
     "text": [
      "count    269648.000000\n",
      "mean          0.871469\n",
      "std           1.213628\n",
      "min           0.000000\n",
      "25%           0.000000\n",
      "50%           0.000000\n",
      "75%           1.000000\n",
      "max          20.000000\n",
      "Name: len_tags, dtype: float64\n"
     ]
    },
    {
     "data": {
      "image/png": "[encoded data removed]",
      "text/plain": [
       "<Figure size 1152x576 with 1 Axes>"
      ]
     },
     "metadata": {
      "needs_background": "light"
     },
     "output_type": "display_data"
    }
   ],
   "source": [
    "print(tags_81_df.len_tags.describe())\n",
    "fig, ax = plt.subplots(figsize=(16, 8))\n",
    "sns.distplot(tags_81_df.len_tags, ax=ax)\n",
    "plt.show()"
   ]
  },
  {
   "cell_type": "markdown",
   "metadata": {},
   "source": [
    "<a id=\"get_important_tags\"></a>\n",
    "# Get important tags\n",
    "[Back to Table of Contents](#toc)"
   ]
  },
  {
   "cell_type": "code",
   "execution_count": 16,
   "metadata": {},
   "outputs": [
    {
     "name": "stderr",
     "output_type": "stream",
     "text": [
      "100%|██████████| 81/81 [00:03<00:00, 21.90it/s]\n"
     ]
    }
   ],
   "source": [
    "ground_truth = []\n",
    "for path in tqdm(list(Path(GT_ROOT).glob('*'))):\n",
    "    tag = path.name.split('_')[-1].split('.')[0]\n",
    "\n",
    "    with open(path, 'r') as f:\n",
    "        content = np.array(f.read().splitlines(), dtype=np.uint)        \n",
    "        ground_truth.append(np.array(['', tag])[content])"
   ]
  },
  {
   "cell_type": "code",
   "execution_count": 17,
   "metadata": {},
   "outputs": [],
   "source": [
    "ground_truth = np.array(ground_truth)"
   ]
  },
  {
   "cell_type": "code",
   "execution_count": 18,
   "metadata": {},
   "outputs": [],
   "source": [
    "ground_truth = [','.join([item for item in items if item != '']) for items in ground_truth.T]"
   ]
  },
  {
   "cell_type": "code",
   "execution_count": 19,
   "metadata": {},
   "outputs": [
    {
     "data": {
      "text/plain": [
       "269648"
      ]
     },
     "execution_count": 19,
     "metadata": {},
     "output_type": "execute_result"
    }
   ],
   "source": [
    "len(ground_truth)"
   ]
  },
  {
   "cell_type": "code",
   "execution_count": 20,
   "metadata": {},
   "outputs": [],
   "source": [
    "important_tags_81_df = pd.DataFrame({\n",
    "    'item_id': item_ids,\n",
    "    'important_tags': ground_truth\n",
    "})"
   ]
  },
  {
   "cell_type": "code",
   "execution_count": 21,
   "metadata": {},
   "outputs": [
    {
     "data": {
      "text/html": [
       "<div>\n",
       "<style scoped>\n",
       "    .dataframe tbody tr th:only-of-type {\n",
       "        vertical-align: middle;\n",
       "    }\n",
       "\n",
       "    .dataframe tbody tr th {\n",
       "        vertical-align: top;\n",
       "    }\n",
       "\n",
       "    .dataframe thead th {\n",
       "        text-align: right;\n",
       "    }\n",
       "</style>\n",
       "<table border=\"1\" class=\"dataframe\">\n",
       "  <thead>\n",
       "    <tr style=\"text-align: right;\">\n",
       "      <th></th>\n",
       "      <th>item_id</th>\n",
       "      <th>important_tags</th>\n",
       "    </tr>\n",
       "  </thead>\n",
       "  <tbody>\n",
       "    <tr>\n",
       "      <th>0</th>\n",
       "      <td>2124494179</td>\n",
       "      <td>person</td>\n",
       "    </tr>\n",
       "    <tr>\n",
       "      <th>1</th>\n",
       "      <td>174174086</td>\n",
       "      <td>person</td>\n",
       "    </tr>\n",
       "    <tr>\n",
       "      <th>2</th>\n",
       "      <td>221597162</td>\n",
       "      <td>person</td>\n",
       "    </tr>\n",
       "    <tr>\n",
       "      <th>3</th>\n",
       "      <td>540895766</td>\n",
       "      <td>person</td>\n",
       "    </tr>\n",
       "    <tr>\n",
       "      <th>4</th>\n",
       "      <td>262041423</td>\n",
       "      <td>person</td>\n",
       "    </tr>\n",
       "    <tr>\n",
       "      <th>...</th>\n",
       "      <td>...</td>\n",
       "      <td>...</td>\n",
       "    </tr>\n",
       "    <tr>\n",
       "      <th>269643</th>\n",
       "      <td>460543444</td>\n",
       "      <td>animal,water,bear</td>\n",
       "    </tr>\n",
       "    <tr>\n",
       "      <th>269644</th>\n",
       "      <td>391097803</td>\n",
       "      <td>animal,birds</td>\n",
       "    </tr>\n",
       "    <tr>\n",
       "      <th>269645</th>\n",
       "      <td>6221368</td>\n",
       "      <td>animal</td>\n",
       "    </tr>\n",
       "    <tr>\n",
       "      <th>269646</th>\n",
       "      <td>144768190</td>\n",
       "      <td>animal,bear</td>\n",
       "    </tr>\n",
       "    <tr>\n",
       "      <th>269647</th>\n",
       "      <td>1368074986</td>\n",
       "      <td>animal</td>\n",
       "    </tr>\n",
       "  </tbody>\n",
       "</table>\n",
       "<p>269648 rows × 2 columns</p>\n",
       "</div>"
      ],
      "text/plain": [
       "           item_id     important_tags\n",
       "0       2124494179             person\n",
       "1        174174086             person\n",
       "2        221597162             person\n",
       "3        540895766             person\n",
       "4        262041423             person\n",
       "...            ...                ...\n",
       "269643   460543444  animal,water,bear\n",
       "269644   391097803       animal,birds\n",
       "269645     6221368             animal\n",
       "269646   144768190        animal,bear\n",
       "269647  1368074986             animal\n",
       "\n",
       "[269648 rows x 2 columns]"
      ]
     },
     "execution_count": 21,
     "metadata": {},
     "output_type": "execute_result"
    }
   ],
   "source": [
    "important_tags_81_df"
   ]
  },
  {
   "cell_type": "code",
   "execution_count": 22,
   "metadata": {},
   "outputs": [],
   "source": [
    "important_tags_81_df['len_important_tags'] = important_tags_81_df.important_tags.apply(lambda x: len(x.split(',')))"
   ]
  },
  {
   "cell_type": "code",
   "execution_count": 23,
   "metadata": {},
   "outputs": [
    {
     "name": "stdout",
     "output_type": "stream",
     "text": [
      "count    269648.000000\n",
      "mean          2.092168\n",
      "std           1.512925\n",
      "min           1.000000\n",
      "25%           1.000000\n",
      "50%           1.000000\n",
      "75%           3.000000\n",
      "max          13.000000\n",
      "Name: len_important_tags, dtype: float64\n"
     ]
    },
    {
     "data": {
      "image/png": "[encoded data removed]",
      "text/plain": [
       "<Figure size 432x288 with 1 Axes>"
      ]
     },
     "metadata": {
      "needs_background": "light"
     },
     "output_type": "display_data"
    }
   ],
   "source": [
    "print(important_tags_81_df.len_important_tags.describe())\n",
    "sns.distplot(important_tags_81_df.len_important_tags)\n",
    "plt.show()"
   ]
  },
  {
   "cell_type": "markdown",
   "metadata": {},
   "source": [
    "<a id=\"generate_dataset\"></a>\n",
    "# Generate dataset\n",
    "[Back to Table of Contents](#toc)"
   ]
  },
  {
   "cell_type": "code",
   "execution_count": 24,
   "metadata": {},
   "outputs": [],
   "source": [
    "df = pd.merge(\n",
    "    tags_81_df.replace('', np.nan).dropna().drop_duplicates(),\n",
    "    important_tags_81_df.replace('', np.nan).dropna().drop_duplicates(),\n",
    "    on='item_id'\n",
    ")"
   ]
  },
  {
   "cell_type": "code",
   "execution_count": 25,
   "metadata": {},
   "outputs": [
    {
     "data": {
      "text/html": [
       "<div>\n",
       "<style scoped>\n",
       "    .dataframe tbody tr th:only-of-type {\n",
       "        vertical-align: middle;\n",
       "    }\n",
       "\n",
       "    .dataframe tbody tr th {\n",
       "        vertical-align: top;\n",
       "    }\n",
       "\n",
       "    .dataframe thead th {\n",
       "        text-align: right;\n",
       "    }\n",
       "</style>\n",
       "<table border=\"1\" class=\"dataframe\">\n",
       "  <thead>\n",
       "    <tr style=\"text-align: right;\">\n",
       "      <th></th>\n",
       "      <th>item_id</th>\n",
       "      <th>tags</th>\n",
       "      <th>len_tags</th>\n",
       "      <th>important_tags</th>\n",
       "      <th>len_important_tags</th>\n",
       "    </tr>\n",
       "  </thead>\n",
       "  <tbody>\n",
       "    <tr>\n",
       "      <th>0</th>\n",
       "      <td>25158805</td>\n",
       "      <td>sports</td>\n",
       "      <td>1</td>\n",
       "      <td>sky,person</td>\n",
       "      <td>2</td>\n",
       "    </tr>\n",
       "    <tr>\n",
       "      <th>1</th>\n",
       "      <td>1106962433</td>\n",
       "      <td>street</td>\n",
       "      <td>1</td>\n",
       "      <td>clouds,person</td>\n",
       "      <td>2</td>\n",
       "    </tr>\n",
       "    <tr>\n",
       "      <th>2</th>\n",
       "      <td>470960261</td>\n",
       "      <td>water</td>\n",
       "      <td>1</td>\n",
       "      <td>grass,water,sky</td>\n",
       "      <td>3</td>\n",
       "    </tr>\n",
       "    <tr>\n",
       "      <th>3</th>\n",
       "      <td>2324200009</td>\n",
       "      <td>moon</td>\n",
       "      <td>1</td>\n",
       "      <td>person</td>\n",
       "      <td>1</td>\n",
       "    </tr>\n",
       "    <tr>\n",
       "      <th>4</th>\n",
       "      <td>213660760</td>\n",
       "      <td>plane</td>\n",
       "      <td>1</td>\n",
       "      <td>plane</td>\n",
       "      <td>1</td>\n",
       "    </tr>\n",
       "    <tr>\n",
       "      <th>...</th>\n",
       "      <td>...</td>\n",
       "      <td>...</td>\n",
       "      <td>...</td>\n",
       "      <td>...</td>\n",
       "      <td>...</td>\n",
       "    </tr>\n",
       "    <tr>\n",
       "      <th>119885</th>\n",
       "      <td>864401461</td>\n",
       "      <td>birds,tree</td>\n",
       "      <td>2</td>\n",
       "      <td>birds</td>\n",
       "      <td>1</td>\n",
       "    </tr>\n",
       "    <tr>\n",
       "      <th>119886</th>\n",
       "      <td>1096302326</td>\n",
       "      <td>animal</td>\n",
       "      <td>1</td>\n",
       "      <td>animal,water</td>\n",
       "      <td>2</td>\n",
       "    </tr>\n",
       "    <tr>\n",
       "      <th>119887</th>\n",
       "      <td>391097803</td>\n",
       "      <td>birds</td>\n",
       "      <td>1</td>\n",
       "      <td>animal,birds</td>\n",
       "      <td>2</td>\n",
       "    </tr>\n",
       "    <tr>\n",
       "      <th>119888</th>\n",
       "      <td>6221368</td>\n",
       "      <td>animal</td>\n",
       "      <td>1</td>\n",
       "      <td>animal</td>\n",
       "      <td>1</td>\n",
       "    </tr>\n",
       "    <tr>\n",
       "      <th>119889</th>\n",
       "      <td>144768190</td>\n",
       "      <td>animal,bear</td>\n",
       "      <td>2</td>\n",
       "      <td>animal,bear</td>\n",
       "      <td>2</td>\n",
       "    </tr>\n",
       "  </tbody>\n",
       "</table>\n",
       "<p>119890 rows × 5 columns</p>\n",
       "</div>"
      ],
      "text/plain": [
       "           item_id         tags  len_tags   important_tags  len_important_tags\n",
       "0         25158805       sports         1       sky,person                   2\n",
       "1       1106962433       street         1    clouds,person                   2\n",
       "2        470960261        water         1  grass,water,sky                   3\n",
       "3       2324200009         moon         1           person                   1\n",
       "4        213660760        plane         1            plane                   1\n",
       "...            ...          ...       ...              ...                 ...\n",
       "119885   864401461   birds,tree         2            birds                   1\n",
       "119886  1096302326       animal         1     animal,water                   2\n",
       "119887   391097803        birds         1     animal,birds                   2\n",
       "119888     6221368       animal         1           animal                   1\n",
       "119889   144768190  animal,bear         2      animal,bear                   2\n",
       "\n",
       "[119890 rows x 5 columns]"
      ]
     },
     "execution_count": 25,
     "metadata": {},
     "output_type": "execute_result"
    }
   ],
   "source": [
    "df"
   ]
  },
  {
   "cell_type": "code",
   "execution_count": 26,
   "metadata": {},
   "outputs": [],
   "source": [
    "df['set_tags'] = df.tags.apply(lambda x: set(x.split(',')))"
   ]
  },
  {
   "cell_type": "code",
   "execution_count": 27,
   "metadata": {},
   "outputs": [],
   "source": [
    "df['set_important_tags'] = df.important_tags.apply(lambda x: set(x.split(',')))"
   ]
  },
  {
   "cell_type": "code",
   "execution_count": 28,
   "metadata": {},
   "outputs": [
    {
     "name": "stderr",
     "output_type": "stream",
     "text": [
      "100%|██████████| 119890/119890 [00:24<00:00, 4940.25it/s]\n"
     ]
    }
   ],
   "source": [
    "mask = []\n",
    "for idx, row in tqdm(df.iterrows(), total=len(df)):\n",
    "    tags = row.set_tags\n",
    "    important_tags = row.set_important_tags\n",
    "    if important_tags.issubset(tags):\n",
    "        mask.append(True)\n",
    "    else:\n",
    "        mask.append(False)"
   ]
  },
  {
   "cell_type": "code",
   "execution_count": 29,
   "metadata": {},
   "outputs": [],
   "source": [
    "df = df.loc[mask]"
   ]
  },
  {
   "cell_type": "code",
   "execution_count": 30,
   "metadata": {},
   "outputs": [
    {
     "data": {
      "text/html": [
       "<div>\n",
       "<style scoped>\n",
       "    .dataframe tbody tr th:only-of-type {\n",
       "        vertical-align: middle;\n",
       "    }\n",
       "\n",
       "    .dataframe tbody tr th {\n",
       "        vertical-align: top;\n",
       "    }\n",
       "\n",
       "    .dataframe thead th {\n",
       "        text-align: right;\n",
       "    }\n",
       "</style>\n",
       "<table border=\"1\" class=\"dataframe\">\n",
       "  <thead>\n",
       "    <tr style=\"text-align: right;\">\n",
       "      <th></th>\n",
       "      <th>item_id</th>\n",
       "      <th>tags</th>\n",
       "      <th>len_tags</th>\n",
       "      <th>important_tags</th>\n",
       "      <th>len_important_tags</th>\n",
       "      <th>set_tags</th>\n",
       "      <th>set_important_tags</th>\n",
       "    </tr>\n",
       "  </thead>\n",
       "  <tbody>\n",
       "    <tr>\n",
       "      <th>4</th>\n",
       "      <td>213660760</td>\n",
       "      <td>plane</td>\n",
       "      <td>1</td>\n",
       "      <td>plane</td>\n",
       "      <td>1</td>\n",
       "      <td>{plane}</td>\n",
       "      <td>{plane}</td>\n",
       "    </tr>\n",
       "    <tr>\n",
       "      <th>7</th>\n",
       "      <td>845243484</td>\n",
       "      <td>clouds,sky</td>\n",
       "      <td>2</td>\n",
       "      <td>clouds,sky</td>\n",
       "      <td>2</td>\n",
       "      <td>{clouds, sky}</td>\n",
       "      <td>{clouds, sky}</td>\n",
       "    </tr>\n",
       "    <tr>\n",
       "      <th>12</th>\n",
       "      <td>1224483022</td>\n",
       "      <td>clouds,sky,sunset</td>\n",
       "      <td>3</td>\n",
       "      <td>clouds,sunset,sky</td>\n",
       "      <td>3</td>\n",
       "      <td>{clouds, sunset, sky}</td>\n",
       "      <td>{clouds, sunset, sky}</td>\n",
       "    </tr>\n",
       "    <tr>\n",
       "      <th>25</th>\n",
       "      <td>2232648051</td>\n",
       "      <td>window</td>\n",
       "      <td>1</td>\n",
       "      <td>window</td>\n",
       "      <td>1</td>\n",
       "      <td>{window}</td>\n",
       "      <td>{window}</td>\n",
       "    </tr>\n",
       "    <tr>\n",
       "      <th>35</th>\n",
       "      <td>2504620853</td>\n",
       "      <td>street</td>\n",
       "      <td>1</td>\n",
       "      <td>street</td>\n",
       "      <td>1</td>\n",
       "      <td>{street}</td>\n",
       "      <td>{street}</td>\n",
       "    </tr>\n",
       "    <tr>\n",
       "      <th>...</th>\n",
       "      <td>...</td>\n",
       "      <td>...</td>\n",
       "      <td>...</td>\n",
       "      <td>...</td>\n",
       "      <td>...</td>\n",
       "      <td>...</td>\n",
       "      <td>...</td>\n",
       "    </tr>\n",
       "    <tr>\n",
       "      <th>119883</th>\n",
       "      <td>2470198185</td>\n",
       "      <td>animal,bear</td>\n",
       "      <td>2</td>\n",
       "      <td>animal,bear</td>\n",
       "      <td>2</td>\n",
       "      <td>{animal, bear}</td>\n",
       "      <td>{animal, bear}</td>\n",
       "    </tr>\n",
       "    <tr>\n",
       "      <th>119884</th>\n",
       "      <td>197520827</td>\n",
       "      <td>animal</td>\n",
       "      <td>1</td>\n",
       "      <td>animal</td>\n",
       "      <td>1</td>\n",
       "      <td>{animal}</td>\n",
       "      <td>{animal}</td>\n",
       "    </tr>\n",
       "    <tr>\n",
       "      <th>119885</th>\n",
       "      <td>864401461</td>\n",
       "      <td>birds,tree</td>\n",
       "      <td>2</td>\n",
       "      <td>birds</td>\n",
       "      <td>1</td>\n",
       "      <td>{birds, tree}</td>\n",
       "      <td>{birds}</td>\n",
       "    </tr>\n",
       "    <tr>\n",
       "      <th>119888</th>\n",
       "      <td>6221368</td>\n",
       "      <td>animal</td>\n",
       "      <td>1</td>\n",
       "      <td>animal</td>\n",
       "      <td>1</td>\n",
       "      <td>{animal}</td>\n",
       "      <td>{animal}</td>\n",
       "    </tr>\n",
       "    <tr>\n",
       "      <th>119889</th>\n",
       "      <td>144768190</td>\n",
       "      <td>animal,bear</td>\n",
       "      <td>2</td>\n",
       "      <td>animal,bear</td>\n",
       "      <td>2</td>\n",
       "      <td>{animal, bear}</td>\n",
       "      <td>{animal, bear}</td>\n",
       "    </tr>\n",
       "  </tbody>\n",
       "</table>\n",
       "<p>26559 rows × 7 columns</p>\n",
       "</div>"
      ],
      "text/plain": [
       "           item_id               tags  len_tags     important_tags  \\\n",
       "4        213660760              plane         1              plane   \n",
       "7        845243484         clouds,sky         2         clouds,sky   \n",
       "12      1224483022  clouds,sky,sunset         3  clouds,sunset,sky   \n",
       "25      2232648051             window         1             window   \n",
       "35      2504620853             street         1             street   \n",
       "...            ...                ...       ...                ...   \n",
       "119883  2470198185        animal,bear         2        animal,bear   \n",
       "119884   197520827             animal         1             animal   \n",
       "119885   864401461         birds,tree         2              birds   \n",
       "119888     6221368             animal         1             animal   \n",
       "119889   144768190        animal,bear         2        animal,bear   \n",
       "\n",
       "        len_important_tags               set_tags     set_important_tags  \n",
       "4                        1                {plane}                {plane}  \n",
       "7                        2          {clouds, sky}          {clouds, sky}  \n",
       "12                       3  {clouds, sunset, sky}  {clouds, sunset, sky}  \n",
       "25                       1               {window}               {window}  \n",
       "35                       1               {street}               {street}  \n",
       "...                    ...                    ...                    ...  \n",
       "119883                   2         {animal, bear}         {animal, bear}  \n",
       "119884                   1               {animal}               {animal}  \n",
       "119885                   1          {birds, tree}                {birds}  \n",
       "119888                   1               {animal}               {animal}  \n",
       "119889                   2         {animal, bear}         {animal, bear}  \n",
       "\n",
       "[26559 rows x 7 columns]"
      ]
     },
     "execution_count": 30,
     "metadata": {},
     "output_type": "execute_result"
    }
   ],
   "source": [
    "df"
   ]
  },
  {
   "cell_type": "code",
   "execution_count": 31,
   "metadata": {},
   "outputs": [
    {
     "name": "stdout",
     "output_type": "stream",
     "text": [
      "26559\n"
     ]
    },
    {
     "data": {
      "image/png": "[encoded data removed]",
      "text/plain": [
       "<Figure size 1584x576 with 2 Axes>"
      ]
     },
     "metadata": {
      "needs_background": "light"
     },
     "output_type": "display_data"
    }
   ],
   "source": [
    "print(len(df))\n",
    "fig, axes = plt.subplots(1, 2, figsize=(22, 8))\n",
    "sns.distplot(df.len_tags, ax=axes[0])\n",
    "sns.distplot(df.len_important_tags, ax=axes[1])\n",
    "plt.show()"
   ]
  },
  {
   "cell_type": "code",
   "execution_count": 32,
   "metadata": {},
   "outputs": [],
   "source": [
    "df = df.loc[df.len_tags <= MAX_LEN]"
   ]
  },
  {
   "cell_type": "code",
   "execution_count": 33,
   "metadata": {},
   "outputs": [
    {
     "name": "stdout",
     "output_type": "stream",
     "text": [
      "26559\n"
     ]
    },
    {
     "data": {
      "image/png": "[encoded data removed]",
      "text/plain": [
       "<Figure size 1584x576 with 2 Axes>"
      ]
     },
     "metadata": {
      "needs_background": "light"
     },
     "output_type": "display_data"
    }
   ],
   "source": [
    "print(len(df))\n",
    "fig, axes = plt.subplots(1, 2, figsize=(22, 8))\n",
    "sns.distplot(df.len_tags, ax=axes[0])\n",
    "sns.distplot(df.len_important_tags, ax=axes[1])\n",
    "plt.show()"
   ]
  },
  {
   "cell_type": "code",
   "execution_count": 34,
   "metadata": {},
   "outputs": [],
   "source": [
    "df.loc[:, 'ratio'] = df.len_important_tags / df.len_tags"
   ]
  },
  {
   "cell_type": "code",
   "execution_count": 35,
   "metadata": {},
   "outputs": [
    {
     "data": {
      "text/plain": [
       "count    26559.000000\n",
       "mean         0.850118\n",
       "std          0.232185\n",
       "min          0.090909\n",
       "25%          0.666667\n",
       "50%          1.000000\n",
       "75%          1.000000\n",
       "max          1.000000\n",
       "Name: ratio, dtype: float64"
      ]
     },
     "execution_count": 35,
     "metadata": {},
     "output_type": "execute_result"
    }
   ],
   "source": [
    "df['ratio'].describe()"
   ]
  },
  {
   "cell_type": "code",
   "execution_count": 36,
   "metadata": {},
   "outputs": [
    {
     "data": {
      "text/html": [
       "<div>\n",
       "<style scoped>\n",
       "    .dataframe tbody tr th:only-of-type {\n",
       "        vertical-align: middle;\n",
       "    }\n",
       "\n",
       "    .dataframe tbody tr th {\n",
       "        vertical-align: top;\n",
       "    }\n",
       "\n",
       "    .dataframe thead th {\n",
       "        text-align: right;\n",
       "    }\n",
       "</style>\n",
       "<table border=\"1\" class=\"dataframe\">\n",
       "  <thead>\n",
       "    <tr style=\"text-align: right;\">\n",
       "      <th></th>\n",
       "      <th>item_id</th>\n",
       "      <th>tags</th>\n",
       "      <th>len_tags</th>\n",
       "      <th>important_tags</th>\n",
       "      <th>len_important_tags</th>\n",
       "      <th>set_tags</th>\n",
       "      <th>set_important_tags</th>\n",
       "      <th>ratio</th>\n",
       "    </tr>\n",
       "  </thead>\n",
       "  <tbody>\n",
       "    <tr>\n",
       "      <th>4</th>\n",
       "      <td>213660760</td>\n",
       "      <td>plane</td>\n",
       "      <td>1</td>\n",
       "      <td>plane</td>\n",
       "      <td>1</td>\n",
       "      <td>{plane}</td>\n",
       "      <td>{plane}</td>\n",
       "      <td>1.0</td>\n",
       "    </tr>\n",
       "    <tr>\n",
       "      <th>7</th>\n",
       "      <td>845243484</td>\n",
       "      <td>clouds,sky</td>\n",
       "      <td>2</td>\n",
       "      <td>clouds,sky</td>\n",
       "      <td>2</td>\n",
       "      <td>{clouds, sky}</td>\n",
       "      <td>{clouds, sky}</td>\n",
       "      <td>1.0</td>\n",
       "    </tr>\n",
       "    <tr>\n",
       "      <th>12</th>\n",
       "      <td>1224483022</td>\n",
       "      <td>clouds,sky,sunset</td>\n",
       "      <td>3</td>\n",
       "      <td>clouds,sunset,sky</td>\n",
       "      <td>3</td>\n",
       "      <td>{clouds, sunset, sky}</td>\n",
       "      <td>{clouds, sunset, sky}</td>\n",
       "      <td>1.0</td>\n",
       "    </tr>\n",
       "    <tr>\n",
       "      <th>25</th>\n",
       "      <td>2232648051</td>\n",
       "      <td>window</td>\n",
       "      <td>1</td>\n",
       "      <td>window</td>\n",
       "      <td>1</td>\n",
       "      <td>{window}</td>\n",
       "      <td>{window}</td>\n",
       "      <td>1.0</td>\n",
       "    </tr>\n",
       "    <tr>\n",
       "      <th>35</th>\n",
       "      <td>2504620853</td>\n",
       "      <td>street</td>\n",
       "      <td>1</td>\n",
       "      <td>street</td>\n",
       "      <td>1</td>\n",
       "      <td>{street}</td>\n",
       "      <td>{street}</td>\n",
       "      <td>1.0</td>\n",
       "    </tr>\n",
       "    <tr>\n",
       "      <th>...</th>\n",
       "      <td>...</td>\n",
       "      <td>...</td>\n",
       "      <td>...</td>\n",
       "      <td>...</td>\n",
       "      <td>...</td>\n",
       "      <td>...</td>\n",
       "      <td>...</td>\n",
       "      <td>...</td>\n",
       "    </tr>\n",
       "    <tr>\n",
       "      <th>119883</th>\n",
       "      <td>2470198185</td>\n",
       "      <td>animal,bear</td>\n",
       "      <td>2</td>\n",
       "      <td>animal,bear</td>\n",
       "      <td>2</td>\n",
       "      <td>{animal, bear}</td>\n",
       "      <td>{animal, bear}</td>\n",
       "      <td>1.0</td>\n",
       "    </tr>\n",
       "    <tr>\n",
       "      <th>119884</th>\n",
       "      <td>197520827</td>\n",
       "      <td>animal</td>\n",
       "      <td>1</td>\n",
       "      <td>animal</td>\n",
       "      <td>1</td>\n",
       "      <td>{animal}</td>\n",
       "      <td>{animal}</td>\n",
       "      <td>1.0</td>\n",
       "    </tr>\n",
       "    <tr>\n",
       "      <th>119885</th>\n",
       "      <td>864401461</td>\n",
       "      <td>birds,tree</td>\n",
       "      <td>2</td>\n",
       "      <td>birds</td>\n",
       "      <td>1</td>\n",
       "      <td>{birds, tree}</td>\n",
       "      <td>{birds}</td>\n",
       "      <td>0.5</td>\n",
       "    </tr>\n",
       "    <tr>\n",
       "      <th>119888</th>\n",
       "      <td>6221368</td>\n",
       "      <td>animal</td>\n",
       "      <td>1</td>\n",
       "      <td>animal</td>\n",
       "      <td>1</td>\n",
       "      <td>{animal}</td>\n",
       "      <td>{animal}</td>\n",
       "      <td>1.0</td>\n",
       "    </tr>\n",
       "    <tr>\n",
       "      <th>119889</th>\n",
       "      <td>144768190</td>\n",
       "      <td>animal,bear</td>\n",
       "      <td>2</td>\n",
       "      <td>animal,bear</td>\n",
       "      <td>2</td>\n",
       "      <td>{animal, bear}</td>\n",
       "      <td>{animal, bear}</td>\n",
       "      <td>1.0</td>\n",
       "    </tr>\n",
       "  </tbody>\n",
       "</table>\n",
       "<p>26559 rows × 8 columns</p>\n",
       "</div>"
      ],
      "text/plain": [
       "           item_id               tags  len_tags     important_tags  \\\n",
       "4        213660760              plane         1              plane   \n",
       "7        845243484         clouds,sky         2         clouds,sky   \n",
       "12      1224483022  clouds,sky,sunset         3  clouds,sunset,sky   \n",
       "25      2232648051             window         1             window   \n",
       "35      2504620853             street         1             street   \n",
       "...            ...                ...       ...                ...   \n",
       "119883  2470198185        animal,bear         2        animal,bear   \n",
       "119884   197520827             animal         1             animal   \n",
       "119885   864401461         birds,tree         2              birds   \n",
       "119888     6221368             animal         1             animal   \n",
       "119889   144768190        animal,bear         2        animal,bear   \n",
       "\n",
       "        len_important_tags               set_tags     set_important_tags  \\\n",
       "4                        1                {plane}                {plane}   \n",
       "7                        2          {clouds, sky}          {clouds, sky}   \n",
       "12                       3  {clouds, sunset, sky}  {clouds, sunset, sky}   \n",
       "25                       1               {window}               {window}   \n",
       "35                       1               {street}               {street}   \n",
       "...                    ...                    ...                    ...   \n",
       "119883                   2         {animal, bear}         {animal, bear}   \n",
       "119884                   1               {animal}               {animal}   \n",
       "119885                   1          {birds, tree}                {birds}   \n",
       "119888                   1               {animal}               {animal}   \n",
       "119889                   2         {animal, bear}         {animal, bear}   \n",
       "\n",
       "        ratio  \n",
       "4         1.0  \n",
       "7         1.0  \n",
       "12        1.0  \n",
       "25        1.0  \n",
       "35        1.0  \n",
       "...       ...  \n",
       "119883    1.0  \n",
       "119884    1.0  \n",
       "119885    0.5  \n",
       "119888    1.0  \n",
       "119889    1.0  \n",
       "\n",
       "[26559 rows x 8 columns]"
      ]
     },
     "execution_count": 36,
     "metadata": {},
     "output_type": "execute_result"
    }
   ],
   "source": [
    "df"
   ]
  },
  {
   "cell_type": "markdown",
   "metadata": {},
   "source": [
    "<a id=\"split_dataset\"></a>\n",
    "# Split dataset into training and validation sets\n",
    "[Back to Table of Contents](#toc)"
   ]
  },
  {
   "cell_type": "markdown",
   "metadata": {},
   "source": [
    "## Get the list of training items"
   ]
  },
  {
   "cell_type": "code",
   "execution_count": 37,
   "metadata": {},
   "outputs": [],
   "source": [
    "with open(TRAIN_IMAGE_LIST_PATH, 'r') as f:\n",
    "    lines = f.read().splitlines()"
   ]
  },
  {
   "cell_type": "code",
   "execution_count": 38,
   "metadata": {},
   "outputs": [
    {
     "data": {
      "text/plain": [
       "'actor\\\\0001_2124494179.jpg'"
      ]
     },
     "execution_count": 38,
     "metadata": {},
     "output_type": "execute_result"
    }
   ],
   "source": [
    "lines[0]"
   ]
  },
  {
   "cell_type": "code",
   "execution_count": 39,
   "metadata": {},
   "outputs": [
    {
     "name": "stderr",
     "output_type": "stream",
     "text": [
      "100%|██████████| 161789/161789 [00:00<00:00, 594936.97it/s]\n"
     ]
    }
   ],
   "source": [
    "cats, item_ids = [], []\n",
    "\n",
    "for line in tqdm(lines):\n",
    "    parts = line.split('_')\n",
    "    item_ids.append(parts[-1].split('.')[0])\n",
    "    cats.append(parts[0].split('\\\\')[0])"
   ]
  },
  {
   "cell_type": "code",
   "execution_count": 40,
   "metadata": {},
   "outputs": [
    {
     "data": {
      "text/plain": [
       "(161789, 161789)"
      ]
     },
     "execution_count": 40,
     "metadata": {},
     "output_type": "execute_result"
    }
   ],
   "source": [
    "len(item_ids), len(cats)"
   ]
  },
  {
   "cell_type": "code",
   "execution_count": 41,
   "metadata": {},
   "outputs": [],
   "source": [
    "train_split_df = pd.DataFrame({\n",
    "    'item_id': item_ids,\n",
    "    'category': cats\n",
    "})"
   ]
  },
  {
   "cell_type": "code",
   "execution_count": 42,
   "metadata": {},
   "outputs": [
    {
     "data": {
      "text/html": [
       "<div>\n",
       "<style scoped>\n",
       "    .dataframe tbody tr th:only-of-type {\n",
       "        vertical-align: middle;\n",
       "    }\n",
       "\n",
       "    .dataframe tbody tr th {\n",
       "        vertical-align: top;\n",
       "    }\n",
       "\n",
       "    .dataframe thead th {\n",
       "        text-align: right;\n",
       "    }\n",
       "</style>\n",
       "<table border=\"1\" class=\"dataframe\">\n",
       "  <thead>\n",
       "    <tr style=\"text-align: right;\">\n",
       "      <th></th>\n",
       "      <th>item_id</th>\n",
       "      <th>category</th>\n",
       "    </tr>\n",
       "  </thead>\n",
       "  <tbody>\n",
       "    <tr>\n",
       "      <th>0</th>\n",
       "      <td>2124494179</td>\n",
       "      <td>actor</td>\n",
       "    </tr>\n",
       "    <tr>\n",
       "      <th>1</th>\n",
       "      <td>221597162</td>\n",
       "      <td>actor</td>\n",
       "    </tr>\n",
       "    <tr>\n",
       "      <th>2</th>\n",
       "      <td>540895766</td>\n",
       "      <td>actor</td>\n",
       "    </tr>\n",
       "    <tr>\n",
       "      <th>3</th>\n",
       "      <td>2171575576</td>\n",
       "      <td>actor</td>\n",
       "    </tr>\n",
       "    <tr>\n",
       "      <th>4</th>\n",
       "      <td>2217003708</td>\n",
       "      <td>actor</td>\n",
       "    </tr>\n",
       "    <tr>\n",
       "      <th>...</th>\n",
       "      <td>...</td>\n",
       "      <td>...</td>\n",
       "    </tr>\n",
       "    <tr>\n",
       "      <th>161784</th>\n",
       "      <td>856379207</td>\n",
       "      <td>zoos</td>\n",
       "    </tr>\n",
       "    <tr>\n",
       "      <th>161785</th>\n",
       "      <td>2063588031</td>\n",
       "      <td>zoos</td>\n",
       "    </tr>\n",
       "    <tr>\n",
       "      <th>161786</th>\n",
       "      <td>460543444</td>\n",
       "      <td>zoos</td>\n",
       "    </tr>\n",
       "    <tr>\n",
       "      <th>161787</th>\n",
       "      <td>6221368</td>\n",
       "      <td>zoos</td>\n",
       "    </tr>\n",
       "    <tr>\n",
       "      <th>161788</th>\n",
       "      <td>1368074986</td>\n",
       "      <td>zoos</td>\n",
       "    </tr>\n",
       "  </tbody>\n",
       "</table>\n",
       "<p>161789 rows × 2 columns</p>\n",
       "</div>"
      ],
      "text/plain": [
       "           item_id category\n",
       "0       2124494179    actor\n",
       "1        221597162    actor\n",
       "2        540895766    actor\n",
       "3       2171575576    actor\n",
       "4       2217003708    actor\n",
       "...            ...      ...\n",
       "161784   856379207     zoos\n",
       "161785  2063588031     zoos\n",
       "161786   460543444     zoos\n",
       "161787     6221368     zoos\n",
       "161788  1368074986     zoos\n",
       "\n",
       "[161789 rows x 2 columns]"
      ]
     },
     "execution_count": 42,
     "metadata": {},
     "output_type": "execute_result"
    }
   ],
   "source": [
    "train_split_df"
   ]
  },
  {
   "cell_type": "code",
   "execution_count": 43,
   "metadata": {},
   "outputs": [
    {
     "data": {
      "text/html": [
       "<div>\n",
       "<style scoped>\n",
       "    .dataframe tbody tr th:only-of-type {\n",
       "        vertical-align: middle;\n",
       "    }\n",
       "\n",
       "    .dataframe tbody tr th {\n",
       "        vertical-align: top;\n",
       "    }\n",
       "\n",
       "    .dataframe thead th {\n",
       "        text-align: right;\n",
       "    }\n",
       "</style>\n",
       "<table border=\"1\" class=\"dataframe\">\n",
       "  <thead>\n",
       "    <tr style=\"text-align: right;\">\n",
       "      <th></th>\n",
       "      <th>item_id</th>\n",
       "    </tr>\n",
       "  </thead>\n",
       "  <tbody>\n",
       "    <tr>\n",
       "      <th>count</th>\n",
       "      <td>661.000000</td>\n",
       "    </tr>\n",
       "    <tr>\n",
       "      <th>mean</th>\n",
       "      <td>244.763994</td>\n",
       "    </tr>\n",
       "    <tr>\n",
       "      <th>std</th>\n",
       "      <td>101.795243</td>\n",
       "    </tr>\n",
       "    <tr>\n",
       "      <th>min</th>\n",
       "      <td>1.000000</td>\n",
       "    </tr>\n",
       "    <tr>\n",
       "      <th>25%</th>\n",
       "      <td>207.000000</td>\n",
       "    </tr>\n",
       "    <tr>\n",
       "      <th>50%</th>\n",
       "      <td>264.000000</td>\n",
       "    </tr>\n",
       "    <tr>\n",
       "      <th>75%</th>\n",
       "      <td>293.000000</td>\n",
       "    </tr>\n",
       "    <tr>\n",
       "      <th>max</th>\n",
       "      <td>916.000000</td>\n",
       "    </tr>\n",
       "  </tbody>\n",
       "</table>\n",
       "</div>"
      ],
      "text/plain": [
       "          item_id\n",
       "count  661.000000\n",
       "mean   244.763994\n",
       "std    101.795243\n",
       "min      1.000000\n",
       "25%    207.000000\n",
       "50%    264.000000\n",
       "75%    293.000000\n",
       "max    916.000000"
      ]
     },
     "execution_count": 43,
     "metadata": {},
     "output_type": "execute_result"
    }
   ],
   "source": [
    "train_split_df.groupby('category').count().describe()"
   ]
  },
  {
   "cell_type": "markdown",
   "metadata": {},
   "source": [
    "## Get the list of validation items"
   ]
  },
  {
   "cell_type": "code",
   "execution_count": 44,
   "metadata": {},
   "outputs": [],
   "source": [
    "with open(VAL_IMAGE_LIST_PATH, 'r') as f:\n",
    "    lines = f.read().splitlines()"
   ]
  },
  {
   "cell_type": "code",
   "execution_count": 45,
   "metadata": {},
   "outputs": [
    {
     "data": {
      "text/plain": [
       "'actor\\\\0002_174174086.jpg'"
      ]
     },
     "execution_count": 45,
     "metadata": {},
     "output_type": "execute_result"
    }
   ],
   "source": [
    "lines[0]"
   ]
  },
  {
   "cell_type": "code",
   "execution_count": 46,
   "metadata": {},
   "outputs": [
    {
     "name": "stderr",
     "output_type": "stream",
     "text": [
      "100%|██████████| 107859/107859 [00:00<00:00, 588682.19it/s]\n"
     ]
    }
   ],
   "source": [
    "cats, item_ids = [], []\n",
    "\n",
    "for line in tqdm(lines):\n",
    "    parts = line.split('_')\n",
    "    item_ids.append(parts[-1].split('.')[0])\n",
    "    cats.append(parts[0].split('\\\\')[0])"
   ]
  },
  {
   "cell_type": "code",
   "execution_count": 47,
   "metadata": {},
   "outputs": [
    {
     "data": {
      "text/plain": [
       "(107859, 107859)"
      ]
     },
     "execution_count": 47,
     "metadata": {},
     "output_type": "execute_result"
    }
   ],
   "source": [
    "len(item_ids), len(cats)"
   ]
  },
  {
   "cell_type": "code",
   "execution_count": 48,
   "metadata": {},
   "outputs": [],
   "source": [
    "val_split_df = pd.DataFrame({\n",
    "    'item_id': item_ids,\n",
    "    'category': cats\n",
    "})"
   ]
  },
  {
   "cell_type": "code",
   "execution_count": 49,
   "metadata": {},
   "outputs": [
    {
     "data": {
      "text/html": [
       "<div>\n",
       "<style scoped>\n",
       "    .dataframe tbody tr th:only-of-type {\n",
       "        vertical-align: middle;\n",
       "    }\n",
       "\n",
       "    .dataframe tbody tr th {\n",
       "        vertical-align: top;\n",
       "    }\n",
       "\n",
       "    .dataframe thead th {\n",
       "        text-align: right;\n",
       "    }\n",
       "</style>\n",
       "<table border=\"1\" class=\"dataframe\">\n",
       "  <thead>\n",
       "    <tr style=\"text-align: right;\">\n",
       "      <th></th>\n",
       "      <th>item_id</th>\n",
       "      <th>category</th>\n",
       "    </tr>\n",
       "  </thead>\n",
       "  <tbody>\n",
       "    <tr>\n",
       "      <th>0</th>\n",
       "      <td>174174086</td>\n",
       "      <td>actor</td>\n",
       "    </tr>\n",
       "    <tr>\n",
       "      <th>1</th>\n",
       "      <td>262041423</td>\n",
       "      <td>actor</td>\n",
       "    </tr>\n",
       "    <tr>\n",
       "      <th>2</th>\n",
       "      <td>25158805</td>\n",
       "      <td>actor</td>\n",
       "    </tr>\n",
       "    <tr>\n",
       "      <th>3</th>\n",
       "      <td>6804082</td>\n",
       "      <td>actor</td>\n",
       "    </tr>\n",
       "    <tr>\n",
       "      <th>4</th>\n",
       "      <td>797603127</td>\n",
       "      <td>actor</td>\n",
       "    </tr>\n",
       "    <tr>\n",
       "      <th>...</th>\n",
       "      <td>...</td>\n",
       "      <td>...</td>\n",
       "    </tr>\n",
       "    <tr>\n",
       "      <th>107854</th>\n",
       "      <td>2725577417</td>\n",
       "      <td>zoos</td>\n",
       "    </tr>\n",
       "    <tr>\n",
       "      <th>107855</th>\n",
       "      <td>864401461</td>\n",
       "      <td>zoos</td>\n",
       "    </tr>\n",
       "    <tr>\n",
       "      <th>107856</th>\n",
       "      <td>1096302326</td>\n",
       "      <td>zoos</td>\n",
       "    </tr>\n",
       "    <tr>\n",
       "      <th>107857</th>\n",
       "      <td>391097803</td>\n",
       "      <td>zoos</td>\n",
       "    </tr>\n",
       "    <tr>\n",
       "      <th>107858</th>\n",
       "      <td>144768190</td>\n",
       "      <td>zoos</td>\n",
       "    </tr>\n",
       "  </tbody>\n",
       "</table>\n",
       "<p>107859 rows × 2 columns</p>\n",
       "</div>"
      ],
      "text/plain": [
       "           item_id category\n",
       "0        174174086    actor\n",
       "1        262041423    actor\n",
       "2         25158805    actor\n",
       "3          6804082    actor\n",
       "4        797603127    actor\n",
       "...            ...      ...\n",
       "107854  2725577417     zoos\n",
       "107855   864401461     zoos\n",
       "107856  1096302326     zoos\n",
       "107857   391097803     zoos\n",
       "107858   144768190     zoos\n",
       "\n",
       "[107859 rows x 2 columns]"
      ]
     },
     "execution_count": 49,
     "metadata": {},
     "output_type": "execute_result"
    }
   ],
   "source": [
    "val_split_df"
   ]
  },
  {
   "cell_type": "code",
   "execution_count": 50,
   "metadata": {},
   "outputs": [
    {
     "data": {
      "text/html": [
       "<div>\n",
       "<style scoped>\n",
       "    .dataframe tbody tr th:only-of-type {\n",
       "        vertical-align: middle;\n",
       "    }\n",
       "\n",
       "    .dataframe tbody tr th {\n",
       "        vertical-align: top;\n",
       "    }\n",
       "\n",
       "    .dataframe thead th {\n",
       "        text-align: right;\n",
       "    }\n",
       "</style>\n",
       "<table border=\"1\" class=\"dataframe\">\n",
       "  <thead>\n",
       "    <tr style=\"text-align: right;\">\n",
       "      <th></th>\n",
       "      <th>item_id</th>\n",
       "    </tr>\n",
       "  </thead>\n",
       "  <tbody>\n",
       "    <tr>\n",
       "      <th>count</th>\n",
       "      <td>661.000000</td>\n",
       "    </tr>\n",
       "    <tr>\n",
       "      <th>mean</th>\n",
       "      <td>163.175492</td>\n",
       "    </tr>\n",
       "    <tr>\n",
       "      <th>std</th>\n",
       "      <td>67.870595</td>\n",
       "    </tr>\n",
       "    <tr>\n",
       "      <th>min</th>\n",
       "      <td>1.000000</td>\n",
       "    </tr>\n",
       "    <tr>\n",
       "      <th>25%</th>\n",
       "      <td>138.000000</td>\n",
       "    </tr>\n",
       "    <tr>\n",
       "      <th>50%</th>\n",
       "      <td>176.000000</td>\n",
       "    </tr>\n",
       "    <tr>\n",
       "      <th>75%</th>\n",
       "      <td>196.000000</td>\n",
       "    </tr>\n",
       "    <tr>\n",
       "      <th>max</th>\n",
       "      <td>611.000000</td>\n",
       "    </tr>\n",
       "  </tbody>\n",
       "</table>\n",
       "</div>"
      ],
      "text/plain": [
       "          item_id\n",
       "count  661.000000\n",
       "mean   163.175492\n",
       "std     67.870595\n",
       "min      1.000000\n",
       "25%    138.000000\n",
       "50%    176.000000\n",
       "75%    196.000000\n",
       "max    611.000000"
      ]
     },
     "execution_count": 50,
     "metadata": {},
     "output_type": "execute_result"
    }
   ],
   "source": [
    "val_split_df.groupby('category').count().describe()"
   ]
  },
  {
   "cell_type": "markdown",
   "metadata": {},
   "source": [
    "## Split dataset"
   ]
  },
  {
   "cell_type": "code",
   "execution_count": 51,
   "metadata": {},
   "outputs": [],
   "source": [
    "train_list = train_split_df.item_id.tolist()"
   ]
  },
  {
   "cell_type": "code",
   "execution_count": 52,
   "metadata": {},
   "outputs": [],
   "source": [
    "val_list = val_split_df.item_id.tolist()"
   ]
  },
  {
   "cell_type": "code",
   "execution_count": 53,
   "metadata": {},
   "outputs": [],
   "source": [
    "df.set_index('item_id', inplace=True)"
   ]
  },
  {
   "cell_type": "code",
   "execution_count": 54,
   "metadata": {},
   "outputs": [],
   "source": [
    "train_df = df.loc[df.index.isin(train_list), ['tags', 'important_tags']]"
   ]
  },
  {
   "cell_type": "code",
   "execution_count": 55,
   "metadata": {},
   "outputs": [
    {
     "data": {
      "text/html": [
       "<div>\n",
       "<style scoped>\n",
       "    .dataframe tbody tr th:only-of-type {\n",
       "        vertical-align: middle;\n",
       "    }\n",
       "\n",
       "    .dataframe tbody tr th {\n",
       "        vertical-align: top;\n",
       "    }\n",
       "\n",
       "    .dataframe thead th {\n",
       "        text-align: right;\n",
       "    }\n",
       "</style>\n",
       "<table border=\"1\" class=\"dataframe\">\n",
       "  <thead>\n",
       "    <tr style=\"text-align: right;\">\n",
       "      <th></th>\n",
       "      <th>tags</th>\n",
       "      <th>important_tags</th>\n",
       "    </tr>\n",
       "    <tr>\n",
       "      <th>item_id</th>\n",
       "      <th></th>\n",
       "      <th></th>\n",
       "    </tr>\n",
       "  </thead>\n",
       "  <tbody>\n",
       "    <tr>\n",
       "      <th>213660760</th>\n",
       "      <td>plane</td>\n",
       "      <td>plane</td>\n",
       "    </tr>\n",
       "    <tr>\n",
       "      <th>2504620853</th>\n",
       "      <td>street</td>\n",
       "      <td>street</td>\n",
       "    </tr>\n",
       "    <tr>\n",
       "      <th>1443282401</th>\n",
       "      <td>dancing</td>\n",
       "      <td>dancing</td>\n",
       "    </tr>\n",
       "    <tr>\n",
       "      <th>534152430</th>\n",
       "      <td>cat</td>\n",
       "      <td>cat</td>\n",
       "    </tr>\n",
       "    <tr>\n",
       "      <th>2102538703</th>\n",
       "      <td>snow,street</td>\n",
       "      <td>snow</td>\n",
       "    </tr>\n",
       "    <tr>\n",
       "      <th>...</th>\n",
       "      <td>...</td>\n",
       "      <td>...</td>\n",
       "    </tr>\n",
       "    <tr>\n",
       "      <th>2471021766</th>\n",
       "      <td>animal,bear</td>\n",
       "      <td>animal,bear</td>\n",
       "    </tr>\n",
       "    <tr>\n",
       "      <th>2634224846</th>\n",
       "      <td>birds</td>\n",
       "      <td>birds</td>\n",
       "    </tr>\n",
       "    <tr>\n",
       "      <th>2470198185</th>\n",
       "      <td>animal,bear</td>\n",
       "      <td>animal,bear</td>\n",
       "    </tr>\n",
       "    <tr>\n",
       "      <th>197520827</th>\n",
       "      <td>animal</td>\n",
       "      <td>animal</td>\n",
       "    </tr>\n",
       "    <tr>\n",
       "      <th>6221368</th>\n",
       "      <td>animal</td>\n",
       "      <td>animal</td>\n",
       "    </tr>\n",
       "  </tbody>\n",
       "</table>\n",
       "<p>15892 rows × 2 columns</p>\n",
       "</div>"
      ],
      "text/plain": [
       "                   tags important_tags\n",
       "item_id                               \n",
       "213660760         plane          plane\n",
       "2504620853       street         street\n",
       "1443282401      dancing        dancing\n",
       "534152430           cat            cat\n",
       "2102538703  snow,street           snow\n",
       "...                 ...            ...\n",
       "2471021766  animal,bear    animal,bear\n",
       "2634224846        birds          birds\n",
       "2470198185  animal,bear    animal,bear\n",
       "197520827        animal         animal\n",
       "6221368          animal         animal\n",
       "\n",
       "[15892 rows x 2 columns]"
      ]
     },
     "execution_count": 55,
     "metadata": {},
     "output_type": "execute_result"
    }
   ],
   "source": [
    "train_df"
   ]
  },
  {
   "cell_type": "code",
   "execution_count": 56,
   "metadata": {},
   "outputs": [],
   "source": [
    "train_df.to_csv(TRAIN_SAVE_PATH)"
   ]
  },
  {
   "cell_type": "code",
   "execution_count": 57,
   "metadata": {},
   "outputs": [],
   "source": [
    "val_df = df.loc[df.index.isin(val_list), ['tags', 'important_tags']]"
   ]
  },
  {
   "cell_type": "code",
   "execution_count": 58,
   "metadata": {},
   "outputs": [
    {
     "data": {
      "text/html": [
       "<div>\n",
       "<style scoped>\n",
       "    .dataframe tbody tr th:only-of-type {\n",
       "        vertical-align: middle;\n",
       "    }\n",
       "\n",
       "    .dataframe tbody tr th {\n",
       "        vertical-align: top;\n",
       "    }\n",
       "\n",
       "    .dataframe thead th {\n",
       "        text-align: right;\n",
       "    }\n",
       "</style>\n",
       "<table border=\"1\" class=\"dataframe\">\n",
       "  <thead>\n",
       "    <tr style=\"text-align: right;\">\n",
       "      <th></th>\n",
       "      <th>tags</th>\n",
       "      <th>important_tags</th>\n",
       "    </tr>\n",
       "    <tr>\n",
       "      <th>item_id</th>\n",
       "      <th></th>\n",
       "      <th></th>\n",
       "    </tr>\n",
       "  </thead>\n",
       "  <tbody>\n",
       "    <tr>\n",
       "      <th>845243484</th>\n",
       "      <td>clouds,sky</td>\n",
       "      <td>clouds,sky</td>\n",
       "    </tr>\n",
       "    <tr>\n",
       "      <th>1224483022</th>\n",
       "      <td>clouds,sky,sunset</td>\n",
       "      <td>clouds,sunset,sky</td>\n",
       "    </tr>\n",
       "    <tr>\n",
       "      <th>2232648051</th>\n",
       "      <td>window</td>\n",
       "      <td>window</td>\n",
       "    </tr>\n",
       "    <tr>\n",
       "      <th>1011749855</th>\n",
       "      <td>wedding</td>\n",
       "      <td>wedding</td>\n",
       "    </tr>\n",
       "    <tr>\n",
       "      <th>2647088981</th>\n",
       "      <td>person</td>\n",
       "      <td>person</td>\n",
       "    </tr>\n",
       "    <tr>\n",
       "      <th>...</th>\n",
       "      <td>...</td>\n",
       "      <td>...</td>\n",
       "    </tr>\n",
       "    <tr>\n",
       "      <th>144769204</th>\n",
       "      <td>animal,bear</td>\n",
       "      <td>animal,bear</td>\n",
       "    </tr>\n",
       "    <tr>\n",
       "      <th>419763644</th>\n",
       "      <td>animal,tiger</td>\n",
       "      <td>animal,tiger</td>\n",
       "    </tr>\n",
       "    <tr>\n",
       "      <th>303420559</th>\n",
       "      <td>animal</td>\n",
       "      <td>animal</td>\n",
       "    </tr>\n",
       "    <tr>\n",
       "      <th>864401461</th>\n",
       "      <td>birds,tree</td>\n",
       "      <td>birds</td>\n",
       "    </tr>\n",
       "    <tr>\n",
       "      <th>144768190</th>\n",
       "      <td>animal,bear</td>\n",
       "      <td>animal,bear</td>\n",
       "    </tr>\n",
       "  </tbody>\n",
       "</table>\n",
       "<p>10668 rows × 2 columns</p>\n",
       "</div>"
      ],
      "text/plain": [
       "                         tags     important_tags\n",
       "item_id                                         \n",
       "845243484          clouds,sky         clouds,sky\n",
       "1224483022  clouds,sky,sunset  clouds,sunset,sky\n",
       "2232648051             window             window\n",
       "1011749855            wedding            wedding\n",
       "2647088981             person             person\n",
       "...                       ...                ...\n",
       "144769204         animal,bear        animal,bear\n",
       "419763644        animal,tiger       animal,tiger\n",
       "303420559              animal             animal\n",
       "864401461          birds,tree              birds\n",
       "144768190         animal,bear        animal,bear\n",
       "\n",
       "[10668 rows x 2 columns]"
      ]
     },
     "execution_count": 58,
     "metadata": {},
     "output_type": "execute_result"
    }
   ],
   "source": [
    "val_df"
   ]
  },
  {
   "cell_type": "code",
   "execution_count": 59,
   "metadata": {},
   "outputs": [],
   "source": [
    "val_df.to_csv(VAL_SAVE_PATH)"
   ]
  },
  {
   "cell_type": "markdown",
   "metadata": {},
   "source": [
    "<a id=\"generate_vocab\"></a>\n",
    "# Generate vocabulary\n",
    "[Back to Table of Contents](#toc)"
   ]
  },
  {
   "cell_type": "code",
   "execution_count": 60,
   "metadata": {},
   "outputs": [
    {
     "data": {
      "text/plain": [
       "81"
      ]
     },
     "execution_count": 60,
     "metadata": {},
     "output_type": "execute_result"
    }
   ],
   "source": [
    "len(concepts81)"
   ]
  },
  {
   "cell_type": "code",
   "execution_count": 61,
   "metadata": {},
   "outputs": [],
   "source": [
    "vocab_df = pd.DataFrame({\n",
    "    'index': list(range(len(concepts81))),\n",
    "    'word': concepts81\n",
    "})"
   ]
  },
  {
   "cell_type": "code",
   "execution_count": 62,
   "metadata": {},
   "outputs": [
    {
     "data": {
      "text/html": [
       "<div>\n",
       "<style scoped>\n",
       "    .dataframe tbody tr th:only-of-type {\n",
       "        vertical-align: middle;\n",
       "    }\n",
       "\n",
       "    .dataframe tbody tr th {\n",
       "        vertical-align: top;\n",
       "    }\n",
       "\n",
       "    .dataframe thead th {\n",
       "        text-align: right;\n",
       "    }\n",
       "</style>\n",
       "<table border=\"1\" class=\"dataframe\">\n",
       "  <thead>\n",
       "    <tr style=\"text-align: right;\">\n",
       "      <th></th>\n",
       "      <th>index</th>\n",
       "      <th>word</th>\n",
       "    </tr>\n",
       "  </thead>\n",
       "  <tbody>\n",
       "    <tr>\n",
       "      <th>0</th>\n",
       "      <td>0</td>\n",
       "      <td>airport</td>\n",
       "    </tr>\n",
       "    <tr>\n",
       "      <th>1</th>\n",
       "      <td>1</td>\n",
       "      <td>animal</td>\n",
       "    </tr>\n",
       "    <tr>\n",
       "      <th>2</th>\n",
       "      <td>2</td>\n",
       "      <td>beach</td>\n",
       "    </tr>\n",
       "    <tr>\n",
       "      <th>3</th>\n",
       "      <td>3</td>\n",
       "      <td>bear</td>\n",
       "    </tr>\n",
       "    <tr>\n",
       "      <th>4</th>\n",
       "      <td>4</td>\n",
       "      <td>birds</td>\n",
       "    </tr>\n",
       "    <tr>\n",
       "      <th>...</th>\n",
       "      <td>...</td>\n",
       "      <td>...</td>\n",
       "    </tr>\n",
       "    <tr>\n",
       "      <th>76</th>\n",
       "      <td>76</td>\n",
       "      <td>waterfall</td>\n",
       "    </tr>\n",
       "    <tr>\n",
       "      <th>77</th>\n",
       "      <td>77</td>\n",
       "      <td>wedding</td>\n",
       "    </tr>\n",
       "    <tr>\n",
       "      <th>78</th>\n",
       "      <td>78</td>\n",
       "      <td>whales</td>\n",
       "    </tr>\n",
       "    <tr>\n",
       "      <th>79</th>\n",
       "      <td>79</td>\n",
       "      <td>window</td>\n",
       "    </tr>\n",
       "    <tr>\n",
       "      <th>80</th>\n",
       "      <td>80</td>\n",
       "      <td>zebra</td>\n",
       "    </tr>\n",
       "  </tbody>\n",
       "</table>\n",
       "<p>81 rows × 2 columns</p>\n",
       "</div>"
      ],
      "text/plain": [
       "    index       word\n",
       "0       0    airport\n",
       "1       1     animal\n",
       "2       2      beach\n",
       "3       3       bear\n",
       "4       4      birds\n",
       "..    ...        ...\n",
       "76     76  waterfall\n",
       "77     77    wedding\n",
       "78     78     whales\n",
       "79     79     window\n",
       "80     80      zebra\n",
       "\n",
       "[81 rows x 2 columns]"
      ]
     },
     "execution_count": 62,
     "metadata": {},
     "output_type": "execute_result"
    }
   ],
   "source": [
    "vocab_df"
   ]
  },
  {
   "cell_type": "code",
   "execution_count": 63,
   "metadata": {},
   "outputs": [],
   "source": [
    "vocab_df.to_csv(VOCAB_SAVE_PATH, index=False)"
   ]
  }
 ],
 "metadata": {
  "kernelspec": {
   "display_name": "Python 3",
   "language": "python",
   "name": "python3"
  },
  "language_info": {
   "codemirror_mode": {
    "name": "ipython",
    "version": 3
   },
   "file_extension": ".py",
   "mimetype": "text/x-python",
   "name": "python",
   "nbconvert_exporter": "python",
   "pygments_lexer": "ipython3",
   "version": "3.6.12"
  }
 },
 "nbformat": 4,
 "nbformat_minor": 4
}
